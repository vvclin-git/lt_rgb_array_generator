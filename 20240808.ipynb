{
 "cells": [
  {
   "cell_type": "code",
   "execution_count": 1,
   "metadata": {},
   "outputs": [
    {
     "name": "stdout",
     "output_type": "stream",
     "text": [
      "{'Scale': {'value': '0.5', 'type': 'value', 'regex': \"r'^[-]*\\\\d+[.]\\\\d+$'\", 'parser': 'float(val)', 'options': None}, 'Pixel Number': {'value': '5x5', 'type': 'value', 'regex': \"r'^\\\\d+x\\\\d+$'\", 'parser': \"(int(val.split('x')[0]), int(val.split('x')[1]))\", 'options': None}, 'Pixel Pitch': {'value': '60x60', 'type': 'value', 'regex': '^\\\\\\\\d+\\\\\\\\.\\\\\\\\d+x\\\\\\\\d+\\\\\\\\.\\\\\\\\d+$', 'parser': \"(float(val.split('x')[0]), float(val.split('x')[1]))\", 'options': None}, 'Pixel Size': {'value': '50x50', 'type': 'value', 'regex': '^\\\\\\\\d+\\\\\\\\.\\\\\\\\d+x\\\\\\\\d+\\\\\\\\.\\\\\\\\d+$', 'parser': \"(float(val.split('x')[0]), float(val.split('x')[1]))\", 'options': None}, 'Row Offset': {'value': '0', 'type': 'value', 'regex': '^[-]*\\\\d+[.]\\\\d+$', 'parser': 'float(val)', 'options': None}, 'Sub-pixel Pitch': {'value': '30x30', 'type': 'value', 'regex': '^\\\\\\\\d+\\\\\\\\.\\\\\\\\d+x\\\\\\\\d+\\\\\\\\.\\\\\\\\d+$', 'parser': \"(float(val.split('x')[0]), float(val.split('x')[1]))\", 'options': None}, 'Sub-pixel Size': {'value': '20x20', 'type': 'value', 'regex': '^\\\\\\\\d+\\\\\\\\.\\\\\\\\d+x\\\\\\\\d+\\\\\\\\.\\\\\\\\d+$', 'parser': \"(float(val.split('x')[0]), float(val.split('x')[1]))\", 'options': None}, 'Sub-pixel Padding': {'value': '0x0', 'type': 'value', 'regex': '^\\\\\\\\d+\\\\\\\\.\\\\\\\\d+x\\\\\\\\d+\\\\\\\\.\\\\\\\\d+$', 'parser': \"(float(val.split('x')[0]), float(val.split('x')[1]))\", 'options': None}, 'Sub-pixel Order': {'value': 'RG|BW', 'type': 'value', 'regex': None, 'parser': None, 'options': None}}\n",
      "{'PID': {'value': '0', 'type': 'value', 'regex': \"r'^[1-9]\\\\d*$'\", 'parser': 'int(val)', 'options': None}, 'Source Key': {'value': '', 'type': 'value', 'regex': None, 'parser': None, 'options': None}}\n"
     ]
    }
   ],
   "source": [
    "import json\n",
    "with open('.\\\\Presets\\\\parameters.json', 'r') as paras_json:\n",
    "    # Load the content of the JSON file\n",
    "    data = json.load(paras_json)\n",
    "    \n",
    "    # Extract the parameters\n",
    "    array_paras = data['RGB_array_parameters']\n",
    "    lt_paras = data['LT_parameters']\n",
    "\n",
    "# Now you can use array_paras and lt_paras as needed\n",
    "print(array_paras)\n",
    "print(lt_paras)\n"
   ]
  },
  {
   "cell_type": "code",
   "execution_count": 2,
   "metadata": {},
   "outputs": [
    {
     "name": "stdout",
     "output_type": "stream",
     "text": [
      "1 2\n"
     ]
    }
   ],
   "source": [
    "a = (1, 2)\n",
    "b, c = a\n",
    "print(b, c)"
   ]
  },
  {
   "cell_type": "code",
   "execution_count": 3,
   "metadata": {},
   "outputs": [
    {
     "name": "stdout",
     "output_type": "stream",
     "text": [
      "[['R', 'G'], ['B']]\n",
      "[['R', 'G'], ['G', 'B']]\n",
      "[['R'], ['G'], ['B']]\n",
      "[['R', 'G', 'B']]\n"
     ]
    }
   ],
   "source": [
    "def parse_sub_pixel(sub_px_order):\n",
    "    sub_px_list = sub_px_order.split('|')\n",
    "    output = []\n",
    "    # if len(sub_px_list) == 1:\n",
    "    #     output.append(list(sub_px_order))\n",
    "    #     return \n",
    "    for r in sub_px_list:\n",
    "        output.append(list(r))\n",
    "    return output\n",
    "\n",
    "\n",
    "sub_px_order = ['RG|B', 'RG|GB', 'R|G|B', 'RGB']\n",
    "\n",
    "for o in sub_px_order:\n",
    "    print(parse_sub_pixel(o))"
   ]
  },
  {
   "cell_type": "code",
   "execution_count": 4,
   "metadata": {},
   "outputs": [
    {
     "name": "stdout",
     "output_type": "stream",
     "text": [
      "1 3\n"
     ]
    }
   ],
   "source": [
    "a = parse_sub_pixel('R|G|B')\n",
    "b = parse_sub_pixel('RGB')\n",
    "print(len(a[0]), len(b[0]))"
   ]
  },
  {
   "cell_type": "code",
   "execution_count": 5,
   "metadata": {},
   "outputs": [],
   "source": [
    "import numpy as np\n",
    "import matplotlib.pyplot as plt\n",
    "import cv2\n",
    "import pandas as pd\n",
    "\n",
    "def gen_pixel(canvas, px_pos, sub_px_pad, sub_px_size, sub_px_pitch, sub_px_order_str):    \n",
    "    sub_px_order = parse_sub_pixel(sub_px_order_str)\n",
    "    sub_px_size_dict = {'R':None, 'G':None, 'B':None, 'W':None}\n",
    "    sub_px_color = {'R':(0, 0, 255), 'G':(0, 255, 0), 'B':(255, 0, 0), 'W':(255, 255, 255)}\n",
    "    if not isinstance(sub_px_size, list):       \n",
    "        sub_px_size_dict = {k:sub_px_size for k in sub_px_size_dict.keys()}\n",
    "    else:\n",
    "        sub_px_size_dict['R'] = sub_px_size[0]\n",
    "        sub_px_size_dict['G'] = sub_px_size[1]\n",
    "        sub_px_size_dict['B'] = sub_px_size[2]\n",
    "        sub_px_size_dict['W'] = sub_px_size[3]\n",
    "\n",
    "    for j, r in enumerate(sub_px_order):\n",
    "        for i, c in enumerate(r):\n",
    "            top_left_x, top_left_y = (px_pos[0] + sub_px_pad[0] + i * sub_px_pitch[0]), (px_pos[1] + sub_px_pad[1] + j * sub_px_pitch[1])\n",
    "            bottom_right_x, bottom_right_y = (top_left_x + sub_px_size_dict[c][0]), (top_left_y + sub_px_size_dict[c][1])\n",
    "            cv2.rectangle(canvas, (top_left_x, top_left_y), (bottom_right_x, bottom_right_y), sub_px_color[c], -1)      \n",
    "    return canvas\n",
    "\n",
    "\n",
    "def gen_array(px_scale, px_num, px_pitch, px_size, row_offset, sub_px_size, sub_px_pitch, sub_px_pad, sub_px_order):\n",
    "    px_pitch = (np.array(px_pitch) * px_scale).astype('uint8')\n",
    "    px_size = (np.array(px_size) * px_scale).astype('uint8')\n",
    "    px_num = np.array(px_num)\n",
    "    array_size = px_pitch * (px_num - 1) + px_size\n",
    "    array_im = np.zeros([array_size[1], array_size[0], 3], dtype='uint8')\n",
    "    sub_px_pitch = (np.array(sub_px_pitch) * px_scale).astype('uint8')\n",
    "    # sub_px_size = ((np.array(s).astype('uint8') * px_scale) for s in sub_px_size)\n",
    "    if isinstance(sub_px_size, list):\n",
    "        sub_px_size = [(np.array(s).astype('uint8') * px_scale) for s in sub_px_size]\n",
    "    else:\n",
    "        sub_px_size = (int(sub_px_size[0] * px_scale), int(sub_px_size[1] * px_scale))\n",
    "    sub_px_pad = (np.array(sub_px_pad) * px_scale).astype('uint8')\n",
    "    # px_pos = np.array([0, 0])\n",
    "    px_orig_pos = np.array([0, 0])\n",
    "    for j in range(px_num[1]):\n",
    "        # px_pos = np.array([0, 0]) + np.array([px_pos[0] + row_offset * (j % 2) * px_pitch[0], 0])\n",
    "        px_orig_pos = px_orig_pos + np.array([row_offset * (j % 2) * px_pitch[0], 0])\n",
    "        for i in range(px_num[0]):\n",
    "            px_pos = px_orig_pos + px_pitch * (np.array([i, j]))\n",
    "            gen_pixel(array_im, px_pos, sub_px_pad, sub_px_size, sub_px_pitch, sub_px_order[j % len(sub_px_order)])\n",
    "    \n",
    "    output_msg = f'''Array Size: {(array_size / px_scale)[0]} x {(array_size / px_scale)[1]}\n",
    "                     Array Dimension: {px_num[0]} x {px_num[1]}\n",
    "                     Pixel Pitch: {px_pitch[0] / px_scale} x {px_pitch[1] / px_scale}\n",
    "                  '''\n",
    "    return array_im, output_msg"
   ]
  },
  {
   "cell_type": "code",
   "execution_count": 6,
   "metadata": {},
   "outputs": [
    {
     "data": {
      "text/plain": [
       "<matplotlib.image.AxesImage at 0x25ea0605160>"
      ]
     },
     "execution_count": 6,
     "metadata": {},
     "output_type": "execute_result"
    },
    {
     "data": {
      "image/png": "[encoded data removed]",
      "text/plain": [
       "<Figure size 432x288 with 1 Axes>"
      ]
     },
     "metadata": {
      "needs_background": "light"
     },
     "output_type": "display_data"
    }
   ],
   "source": [
    "px_num = (5, 5)\n",
    "px_size = (50, 50)\n",
    "px_pitch = (60, 60)\n",
    "row_offset = 0\n",
    "px_scale = 1\n",
    "sub_px_pad = (0, 0)\n",
    "# sub_px_size = (20, 20)\n",
    "sub_px_size = (20, 20)\n",
    "sub_px_pitch = (30, 30)\n",
    "sub_px_order_str = 'RG|BW'\n",
    "sub_px_order = ['RG|BW']\n",
    "\n",
    "canvas_im, output_msg = gen_array(px_scale, px_num, px_pitch, px_size, row_offset, sub_px_size, sub_px_pitch, sub_px_pad, sub_px_order)\n",
    "\n",
    "\n",
    "canvas_im = cv2.cvtColor(canvas_im, cv2.COLOR_BGR2RGB)\n",
    "plt.imshow(canvas_im)"
   ]
  },
  {
   "cell_type": "code",
   "execution_count": null,
   "metadata": {},
   "outputs": [],
   "source": []
  },
  {
   "cell_type": "code",
   "execution_count": 7,
   "metadata": {},
   "outputs": [
    {
     "data": {
      "text/plain": [
       "<matplotlib.image.AxesImage at 0x25ea2747550>"
      ]
     },
     "execution_count": 7,
     "metadata": {},
     "output_type": "execute_result"
    },
    {
     "data": {
      "image/png": "[encoded data removed]",
      "text/plain": [
       "<Figure size 432x288 with 1 Axes>"
      ]
     },
     "metadata": {
      "needs_background": "light"
     },
     "output_type": "display_data"
    }
   ],
   "source": [
    "canvas = np.zeros([300, 300, 3], dtype='uint8')\n",
    "\n",
    "px_pos = (100, 100)\n",
    "px_scale = 1\n",
    "sub_px_pad = (0, 0)\n",
    "# sub_px_size = (20, 20)\n",
    "sub_px_size = (20, 20)\n",
    "sub_px_pitch = (30, 30)\n",
    "sub_px_order_str = ('RG|BW')\n",
    "\n",
    "canvas_im = gen_pixel(canvas, px_pos, sub_px_pad, sub_px_size, sub_px_pitch, sub_px_order_str)\n",
    "# cv2.rectangle(canvas_im, px_pos, (), (255, 255, 0), 1)\n",
    "canvas_im = cv2.cvtColor(canvas_im, cv2.COLOR_BGR2RGB)\n",
    "plt.imshow(canvas_im)"
   ]
  },
  {
   "cell_type": "code",
   "execution_count": 8,
   "metadata": {},
   "outputs": [
    {
     "name": "stdout",
     "output_type": "stream",
     "text": [
      "uint8\n"
     ]
    }
   ],
   "source": [
    "print(canvas_im.dtype)"
   ]
  },
  {
   "cell_type": "code",
   "execution_count": 9,
   "metadata": {},
   "outputs": [
    {
     "name": "stdout",
     "output_type": "stream",
     "text": [
      "Array Size: 100.0 x 100.0\n",
      "Array Dimension: 5 x 5\n",
      "Pixel Pitch: 60.0 x 60.0\n",
      "\n"
     ]
    }
   ],
   "source": [
    "import textwrap\n",
    "array_size = np.array([100, 100])\n",
    "px_scale = 1\n",
    "px_num = (5, 5)\n",
    "px_size = (50, 50)\n",
    "px_pitch = (60, 60)\n",
    "output_msg = f'''Array Size: {(array_size / px_scale)[0]} x {(array_size / px_scale)[1]}\n",
    "Array Dimension: {px_num[0]} x {px_num[1]}\n",
    "Pixel Pitch: {px_pitch[0] / px_scale} x {px_pitch[1] / px_scale}\n",
    "'''\n",
    "output_msg = textwrap.dedent(output_msg)\n",
    "\n",
    "print(output_msg)\n"
   ]
  },
  {
   "cell_type": "code",
   "execution_count": 10,
   "metadata": {},
   "outputs": [
    {
     "name": "stdout",
     "output_type": "stream",
     "text": [
      "[1. 1.] [1 1]\n"
     ]
    }
   ],
   "source": [
    "a = np.array([1.0, 1.0])\n",
    "b = a.astype('uint8')\n",
    "print(a, b)"
   ]
  },
  {
   "cell_type": "code",
   "execution_count": 11,
   "metadata": {},
   "outputs": [
    {
     "name": "stdout",
     "output_type": "stream",
     "text": [
      "R.txt\n",
      "G.txt\n",
      "B.txt\n"
     ]
    }
   ],
   "source": [
    "for i, c in enumerate(['R', 'G', 'B']):\n",
    "    output_fn = f'{c}.txt'\n",
    "    print(output_fn)"
   ]
  },
  {
   "cell_type": "code",
   "execution_count": 12,
   "metadata": {},
   "outputs": [],
   "source": [
    "array_im_preview = np.load('.\\\\array_im_preview.npy')\n",
    "array_im = np.load('.\\\\array_im.npy')"
   ]
  },
  {
   "cell_type": "code",
   "execution_count": 13,
   "metadata": {},
   "outputs": [
    {
     "data": {
      "text/plain": [
       "<matplotlib.image.AxesImage at 0x25ea27abb50>"
      ]
     },
     "execution_count": 13,
     "metadata": {},
     "output_type": "execute_result"
    },
    {
     "data": {
      "image/png": "[encoded data removed]",
      "text/plain": [
       "<Figure size 432x288 with 1 Axes>"
      ]
     },
     "metadata": {
      "needs_background": "light"
     },
     "output_type": "display_data"
    }
   ],
   "source": [
    "plt.imshow(array_im_preview)\n"
   ]
  },
  {
   "cell_type": "code",
   "execution_count": 14,
   "metadata": {},
   "outputs": [
    {
     "data": {
      "text/plain": [
       "<matplotlib.image.AxesImage at 0x25ea28e6fd0>"
      ]
     },
     "execution_count": 14,
     "metadata": {},
     "output_type": "execute_result"
    },
    {
     "data": {
      "image/png": "[encoded data removed]",
      "text/plain": [
       "<Figure size 432x288 with 3 Axes>"
      ]
     },
     "metadata": {
      "needs_background": "light"
     },
     "output_type": "display_data"
    }
   ],
   "source": [
    "main_array = array_im_preview\n",
    "array_im_r = np.zeros_like(main_array)\n",
    "array_im_g = np.zeros_like(main_array)\n",
    "array_im_b = np.zeros_like(main_array)\n",
    "array_im_r[:, :, 0] = main_array[:, :, 0]\n",
    "array_im_g[:, :, 1] = main_array[:, :, 1]\n",
    "array_im_b[:, :, 2] = main_array[:, :, 2]\n",
    "fig, ax = plt.subplots(1, 3)\n",
    "ax[0].imshow(array_im_r) \n",
    "ax[1].imshow(array_im_g) \n",
    "ax[2].imshow(array_im_b) \n",
    "# plt.imshow(array_im_r)\n",
    "# plt.imshow(array_im_g)\n",
    "# plt.imshow(array_im_b)"
   ]
  },
  {
   "cell_type": "code",
   "execution_count": 23,
   "metadata": {},
   "outputs": [],
   "source": [
    "class Custom_Error(Exception):\n",
    "    def __init__(self, message, code):\n",
    "        self.message = message\n",
    "        self.code = code\n",
    "\n",
    "class LT_Error():\n",
    "    def __init__(self):    \n",
    "        self.error_codes = { 0 : \" ltStatusSuccess\" , 1 : \" ltStatusBadInputParameter\" , 2 : \" ltStatusOutOfMemory\" , 10 : \" ltStatusWrongVariableType\" , \n",
    "            11 : \" ltStatusVariableNotDefined\" , 12 : \" ltStatusVariableCantBeSetToGivenValue\" , 13 : \" ltStatusUndefinedOption\" , 20 : \" ltStatusInvalidExpression\" , \n",
    "                30 : \" ltStatusDatakeyNotFound\" , 32 : \" ltStatusInvalidDataAccessString\" , 33 : \" ltStatusInvalidFunctionString\" , 34 : \" ltStatusWrongDataType\" , \n",
    "                    35 : \" ltStatusDatakeyNotSelected\" , 40 : \" ltStatusViewNotFound\" , 41 : \" ltStatusProblemAccessingViewData\" , 50 : \" ltStatusInvalidSelectList\" , \n",
    "                        51 : \" ltStatusListNotCreated\" , 52 : \" ltStatusListIsEmpty\" , 53 : \" ltStatusEndOfList\" , 54 : \" ltStatusInvalidListPosition\" , \n",
    "                            60 : \" ltStatusQuickRayPrerequisiteNotEstablished\" , 61 : \" ltStatusQuickRayMissedSurface\" , 70 : \" ltStatusCommandNotCompleted\"}\n",
    "    def check_error(self, lt_stat):\n",
    "        if lt_stat != 0:\n",
    "            raise Custom_Error(self.error_codes[lt_stat], lt_stat)"
   ]
  },
  {
   "cell_type": "code",
   "execution_count": 26,
   "metadata": {},
   "outputs": [
    {
     "data": {
      "text/plain": [
       "' ltStatusVariableCantBeSetToGivenValue'"
      ]
     },
     "execution_count": 26,
     "metadata": {},
     "output_type": "execute_result"
    }
   ],
   "source": [
    "lt_error = LT_Error()\n",
    "lt_error.error_codes[12]"
   ]
  },
  {
   "cell_type": "code",
   "execution_count": null,
   "metadata": {},
   "outputs": [],
   "source": [
    "for color in ['R', 'G', 'B']:\n",
    "apod_file_path_key = f'LENS_MANAGER[1].COMPONENTS[Components].GROUP[group_Freeform_PBS_KF_2D_Complete].GROUP[group_RGB_24um_1.92x1.95].CUBE_SURFACE_SOURCE[CuboidSource_{color}_1].NATIVE_EMITTER[RightSurface].SURFACE_GRID_APODIZER[SurfaceGridApodizer]'\n",
    "apod_fn = replace_color(a, color)\n",
    "print(f'Setting up apod file as: {apod_fn}')\n",
    "lt.DbSet(apod_file_path_key, 'LoadFileName', f\"D:\\\\Garden\\\\Wayne\\\\Python\\\\LT Freeform\\\\Apod Files\\\\{apod_fn}.txt\")\n",
    "lt.DbSet(apod_file_path_key, 'LoadFileName', f\"D:\\\\Garden\\\\Wayne\\\\Python\\\\LT Freeform\\\\Apod Files\\\\{apod_fn}.txt\")\n",
    "lt.DbSet(apod_file_path_key, 'LoadFileName', f\"D:\\\\Garden\\\\Wayne\\\\Python\\\\LT Freeform\\\\Apod Files\\\\{apod_fn}.txt\")"
   ]
  },
  {
   "cell_type": "code",
   "execution_count": 33,
   "metadata": {},
   "outputs": [
    {
     "name": "stdout",
     "output_type": "stream",
     "text": [
      "Valid input string.\n",
      "Generated variants:\n",
      "LENS_MANAGER[1].ILLUM_MANAGER[Illumination_Manager].SOURCES[Source_List].CUBE_SURFACE_SOURCE[CuboidSource_R]R[SurfaceGridApodizer].LoadFileName\n",
      "LENS_MANAGER[1].ILLUM_MANAGER[Illumination_Manager].SOURCES[Source_List].CUBE_SURFACE_SOURCE[CuboidSource_G]R[SurfaceGridApodizer].LoadFileName\n",
      "LENS_MANAGER[1].ILLUM_MANAGER[Illumination_Manager].SOURCES[Source_List].CUBE_SURFACE_SOURCE[CuboidSource_B]R[SurfaceGridApodizer].LoadFileName\n"
     ]
    }
   ],
   "source": [
    "import re\n",
    "\n",
    "# Define the pattern for validating the input string\n",
    "pattern = r\"(.*CUBE_SURFACE_SOURCE\\[([a-zA-Z0-9_]+)_(R|G|B)\\]\\.NATIVE_EMITTER\\[[a-zA-Z0-9_]+\\]\\.SURFACE_GRID_APODIZER\\[SurfaceGridApodizer\\]\\.LoadFileName$)\"\n",
    "\n",
    "def generate_variants(input_string):\n",
    "    # Check if the input string is valid\n",
    "    match = re.match(pattern, input_string)    \n",
    "    if not match:\n",
    "        return None  # Return None if the string is invalid\n",
    "    # Extract the parts of the string\n",
    "    base_string = input_string.split('CUBE_SURFACE_SOURCE')[0]  # Everything before the variant\n",
    "    source_name = match.group(2)  # The arbitrary part of the source name\n",
    "    variant_type = match.group(3)  # The variant type (\"R\", \"G\", or \"B\")    \n",
    "    # Extract the remaining part after \"CUBE_SURFACE_SOURCE[...]\"\n",
    "    remaining_string = input_string[len(match.group(0)) - len(match.group(1)) - len(f'{source_name}_{variant_type}') - len('CUBE_SURFACE_SOURCE[]'):]    \n",
    "    # Generate other variants\n",
    "    variants = {\n",
    "        \"R\": f\"{base_string}CUBE_SURFACE_SOURCE[{source_name}_R]{remaining_string}\",\n",
    "        \"G\": f\"{base_string}CUBE_SURFACE_SOURCE[{source_name}_G]{remaining_string}\",\n",
    "        \"B\": f\"{base_string}CUBE_SURFACE_SOURCE[{source_name}_B]{remaining_string}\"\n",
    "    }\n",
    "    # Return all variants\n",
    "    return variants\n",
    "\n",
    "# Example usage:\n",
    "input_string = \"LENS_MANAGER[1].ILLUM_MANAGER[Illumination_Manager].SOURCES[Source_List].CUBE_SURFACE_SOURCE[CuboidSource_R].NATIVE_EMITTER[LeftSurface].SURFACE_GRID_APODIZER[SurfaceGridApodizer].LoadFileName\"\n",
    "\n",
    "result = generate_variants(input_string)\n",
    "\n",
    "if result:\n",
    "    print(\"Valid input string.\")\n",
    "    print(\"Generated variants:\")\n",
    "    for variant in result.values():\n",
    "        print(variant)\n",
    "else:\n",
    "    print(\"Invalid input string.\")\n"
   ]
  },
  {
   "cell_type": "code",
   "execution_count": 50,
   "metadata": {},
   "outputs": [
    {
     "name": "stdout",
     "output_type": "stream",
     "text": [
      "px scale 0.5_50.0x50.0_5x5_300.0x300.0_G_20240813-15-24-20\n"
     ]
    }
   ],
   "source": [
    "grid_fn = 'px scale 0.5_50.0x50.0_5x5_300.0x300.0_B_20240813-15-24-20'\n",
    "grid_fn_g = grid_fn[0:-19] + 'G' + grid_fn[-18:]\n",
    "print(grid_fn_g)"
   ]
  },
  {
   "cell_type": "code",
   "execution_count": 51,
   "metadata": {},
   "outputs": [
    {
     "data": {
      "text/plain": [
       "0"
      ]
     },
     "execution_count": 51,
     "metadata": {},
     "output_type": "execute_result"
    }
   ],
   "source": [
    "import numpy as np\n",
    "from LightTools import LTAPIx\n",
    "import time\n",
    "import matplotlib.pyplot as plt\n",
    "PID = 2272\n",
    "loc = LTAPIx.LTLocator()\n",
    "lt = loc.GetLTAPIFromPID(PID)\n",
    "lt.Message('Script LT connection established')"
   ]
  },
  {
   "cell_type": "code",
   "execution_count": 60,
   "metadata": {},
   "outputs": [],
   "source": [
    "a = lt.DbGet('LENS_MANAGER[1].ILLUM_MANAGER[Illumination_Manager].SOURCES[Source_List].CUBE_SURFACE_SOURCE[CuboidSource_R].NATIVE_EMITTER[LeftSurface].SURFACE_GRID_APODIZER[SurfaceGridApodizer]', 'LoadFileName')"
   ]
  },
  {
   "cell_type": "code",
   "execution_count": 61,
   "metadata": {},
   "outputs": [
    {
     "name": "stdout",
     "output_type": "stream",
     "text": [
      "('px scale 0.5_50.0x50.0_5x5_300.0x300.0_R_20240813-16-09-11.txt', 0)\n"
     ]
    }
   ],
   "source": [
    "print(a)"
   ]
  },
  {
   "cell_type": "code",
   "execution_count": 62,
   "metadata": {},
   "outputs": [
    {
     "name": "stdout",
     "output_type": "stream",
     "text": [
      "LENS_MANAGER[1].ILLUM_MANAGER[Illumination_Manager].SOURCES[Source_List].CUBE_SURFACE_SOURCE[CuboidSource_R].NATIVE_EMITTER[LeftSurface].SURFACE_GRID_APODIZER[SurfaceGridApodizer]\n"
     ]
    }
   ],
   "source": [
    "key = 'LENS_MANAGER[1].ILLUM_MANAGER[Illumination_Manager].SOURCES[Source_List].CUBE_SURFACE_SOURCE[CuboidSource_R].NATIVE_EMITTER[LeftSurface].SURFACE_GRID_APODIZER[SurfaceGridApodizer].LoadFileName'\n",
    "print(key[:-13])"
   ]
  },
  {
   "cell_type": "code",
   "execution_count": 64,
   "metadata": {},
   "outputs": [
    {
     "name": "stdout",
     "output_type": "stream",
     "text": [
      "\\d\n"
     ]
    }
   ],
   "source": [
    "a = '/d'\n",
    "a = a.replace('/', '\\\\')\n",
    "print(a)"
   ]
  }
 ],
 "metadata": {
  "kernelspec": {
   "display_name": "Python 3",
   "language": "python",
   "name": "python3"
  },
  "language_info": {
   "codemirror_mode": {
    "name": "ipython",
    "version": 3
   },
   "file_extension": ".py",
   "mimetype": "text/x-python",
   "name": "python",
   "nbconvert_exporter": "python",
   "pygments_lexer": "ipython3",
   "version": "3.8.4"
  }
 },
 "nbformat": 4,
 "nbformat_minor": 2
}
