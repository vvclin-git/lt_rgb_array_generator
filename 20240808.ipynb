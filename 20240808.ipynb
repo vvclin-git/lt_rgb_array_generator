{
 "cells": [
  {
   "cell_type": "code",
   "execution_count": 10,
   "metadata": {},
   "outputs": [
    {
     "name": "stdout",
     "output_type": "stream",
     "text": [
      "{'Scale': {'value': '0.5', 'type': 'value', 'regex': '^[-]*\\\\d+[.]\\\\d+$', 'parser': 'float(val)', 'options': None}, 'Pixel Number': {'value': '10x10', 'type': 'value', 'regex': \"r'^\\\\d+x\\\\d+$'\", 'parser': \"(int(val.split('x')[0]), int(val.split('x')[1]))\", 'options': None}, 'Pixel Size': {'value': '10x10', 'type': 'value', 'regex': '^\\\\\\\\d+\\\\\\\\.\\\\\\\\d+x\\\\\\\\d+\\\\\\\\.\\\\\\\\d+$', 'parser': \"(float(val.split('x')[0]), float(val.split('x')[1]))\", 'options': None}, 'Pixel Pitch': {'value': '10x10', 'type': 'value', 'regex': '^\\\\\\\\d+\\\\\\\\.\\\\\\\\d+x\\\\\\\\d+\\\\\\\\.\\\\\\\\d+$', 'parser': \"(float(val.split('x')[0]), float(val.split('x')[1]))\", 'options': None}, 'Row Offset': {'value': '0.5', 'type': 'value', 'regex': '^[-]*\\\\d+[.]\\\\d+$', 'parser': 'float(val)', 'options': None}, 'Sub-pixel Size': {'value': '10x10', 'type': 'value', 'regex': '^\\\\\\\\d+\\\\\\\\.\\\\\\\\d+x\\\\\\\\d+\\\\\\\\.\\\\\\\\d+$', 'parser': \"(float(val.split('x')[0]), float(val.split('x')[1]))\", 'options': None}, 'Sub-pixel Pitch': {'value': '10x10', 'type': 'value', 'regex': '^\\\\\\\\d+\\\\\\\\.\\\\\\\\d+x\\\\\\\\d+\\\\\\\\.\\\\\\\\d+$', 'parser': \"(float(val.split('x')[0]), float(val.split('x')[1]))\", 'options': None}, 'Sub-pixel Order': {'value': 'RGB;GBR;BRG', 'type': 'value', 'regex': None, 'parser': None, 'options': None}}\n",
      "{'PID': {'value': '0', 'type': 'value', 'regex': \"r'^[1-9]\\\\d*$'\", 'parser': 'int(val)', 'options': None}, 'Source Key': {'value': '', 'type': 'value', 'regex': None, 'parser': None, 'options': None}}\n"
     ]
    }
   ],
   "source": [
    "import json\n",
    "with open('.\\\\Presets\\\\parameters.json', 'r') as paras_json:\n",
    "    # Load the content of the JSON file\n",
    "    data = json.load(paras_json)\n",
    "    \n",
    "    # Extract the parameters\n",
    "    array_paras = data['RGB_array_parameters']\n",
    "    lt_paras = data['LT_parameters']\n",
    "\n",
    "# Now you can use array_paras and lt_paras as needed\n",
    "print(array_paras)\n",
    "print(lt_paras)\n"
   ]
  },
  {
   "cell_type": "code",
   "execution_count": 11,
   "metadata": {},
   "outputs": [
    {
     "name": "stdout",
     "output_type": "stream",
     "text": [
      "1 2\n"
     ]
    }
   ],
   "source": [
    "a = (1, 2)\n",
    "b, c = a\n",
    "print(b, c)"
   ]
  },
  {
   "cell_type": "code",
   "execution_count": 16,
   "metadata": {},
   "outputs": [
    {
     "name": "stdout",
     "output_type": "stream",
     "text": [
      "[['R', 'G'], ['B']]\n",
      "[['R', 'G'], ['G', 'B']]\n",
      "[['R'], ['G'], ['B']]\n",
      "[['R', 'G', 'B']]\n"
     ]
    }
   ],
   "source": [
    "def parse_sub_pixel(sub_px_order):\n",
    "    sub_px_list = sub_px_order.split('|')\n",
    "    output = []\n",
    "    # if len(sub_px_list) == 1:\n",
    "    #     output.append(list(sub_px_order))\n",
    "    #     return \n",
    "    for r in sub_px_list:\n",
    "        output.append(list(r))\n",
    "    return output\n",
    "\n",
    "\n",
    "sub_px_order = ['RG|B', 'RG|GB', 'R|G|B', 'RGB']\n",
    "\n",
    "for o in sub_px_order:\n",
    "    print(parse_sub_pixel(o))"
   ]
  },
  {
   "cell_type": "code",
   "execution_count": 17,
   "metadata": {},
   "outputs": [
    {
     "name": "stdout",
     "output_type": "stream",
     "text": [
      "1 3\n"
     ]
    }
   ],
   "source": [
    "a = parse_sub_pixel('R|G|B')\n",
    "b = parse_sub_pixel('RGB')\n",
    "print(len(a[0]), len(b[0]))"
   ]
  },
  {
   "cell_type": "code",
   "execution_count": 4,
   "metadata": {},
   "outputs": [],
   "source": [
    "import numpy as np\n",
    "import matplotlib.pyplot as plt\n",
    "import cv2\n",
    "import pandas as pd\n",
    "\n",
    "def gen_pixel(canvas, px_pos, sub_px_pad, sub_px_size, sub_px_pitch, sub_px_order_str):    \n",
    "    sub_px_order = parse_sub_pixel(sub_px_order_str)\n",
    "    sub_px_size_dict = {'R':None, 'G':None, 'B':None, 'W':None}\n",
    "    sub_px_color = {'R':(0, 0, 255), 'G':(0, 255, 0), 'B':(255, 0, 0), 'W':(255, 255, 255)}\n",
    "    if not isinstance(sub_px_size, list):       \n",
    "        sub_px_size_dict = {k:sub_px_size for k in sub_px_size_dict.keys()}\n",
    "    else:\n",
    "        sub_px_size_dict['R'] = sub_px_size[0]\n",
    "        sub_px_size_dict['G'] = sub_px_size[1]\n",
    "        sub_px_size_dict['B'] = sub_px_size[2]\n",
    "        sub_px_size_dict['W'] = sub_px_size[3]\n",
    "\n",
    "    for j, r in enumerate(sub_px_order):\n",
    "        for i, c in enumerate(r):\n",
    "            top_left_x, top_left_y = (px_pos[0] + sub_px_pad[0] + i * sub_px_pitch[0]), (px_pos[1] + sub_px_pad[1] + j * sub_px_pitch[1])\n",
    "            bottom_right_x, bottom_right_y = (top_left_x + sub_px_size_dict[c][0]), (top_left_y + sub_px_size_dict[c][1])\n",
    "            cv2.rectangle(canvas, (top_left_x, top_left_y), (bottom_right_x, bottom_right_y), sub_px_color[c], -1)      \n",
    "    return canvas\n",
    "\n",
    "\n",
    "def gen_array(px_scale, px_num, px_pitch, px_size, row_offset, sub_px_size, sub_px_pitch, sub_px_pad, sub_px_order):\n",
    "    px_pitch = (np.array(px_pitch) * px_scale).astype('uint8')\n",
    "    px_size = (np.array(px_size) * px_scale).astype('uint8')\n",
    "    px_num = np.array(px_num)\n",
    "    array_size = px_pitch * (px_num - 1) + px_size\n",
    "    array_im = np.zeros([array_size[1], array_size[0], 3], dtype='uint8')\n",
    "    sub_px_pitch = (np.array(sub_px_pitch) * px_scale).astype('uint8')\n",
    "    # sub_px_size = ((np.array(s).astype('uint8') * px_scale) for s in sub_px_size)\n",
    "    if isinstance(sub_px_size, list):\n",
    "        sub_px_size = [(np.array(s).astype('uint8') * px_scale) for s in sub_px_size]\n",
    "    else:\n",
    "        sub_px_size = (int(sub_px_size[0] * px_scale), int(sub_px_size[1] * px_scale))\n",
    "    sub_px_pad = (np.array(sub_px_pad) * px_scale).astype('uint8')\n",
    "    # px_pos = np.array([0, 0])\n",
    "    px_orig_pos = np.array([0, 0])\n",
    "    for j in range(px_num[1]):\n",
    "        # px_pos = np.array([0, 0]) + np.array([px_pos[0] + row_offset * (j % 2) * px_pitch[0], 0])\n",
    "        px_orig_pos = px_orig_pos + np.array([row_offset * (j % 2) * px_pitch[0], 0])\n",
    "        for i in range(px_num[0]):\n",
    "            px_pos = px_orig_pos + px_pitch * (np.array([i, j]))\n",
    "            gen_pixel(array_im, px_pos, sub_px_pad, sub_px_size, sub_px_pitch, sub_px_order[j % len(sub_px_order)])\n",
    "    \n",
    "    output_msg = f'''Array Size: {(array_size / px_scale)[0]} x {(array_size / px_scale)[1]}\n",
    "                     Array Dimension: {px_num[0]} x {px_num[1]}\n",
    "                     Pixel Pitch: {px_pitch[0] / px_scale} x {px_pitch[1] / px_scale}\n",
    "                  '''\n",
    "    return array_im, output_msg"
   ]
  },
  {
   "cell_type": "code",
   "execution_count": 83,
   "metadata": {},
   "outputs": [
    {
     "data": {
      "text/plain": [
       "<matplotlib.image.AxesImage at 0x224b1172bb0>"
      ]
     },
     "execution_count": 83,
     "metadata": {},
     "output_type": "execute_result"
    },
    {
     "data": {
      "image/png": "[encoded data removed]",
      "text/plain": [
       "<Figure size 640x480 with 1 Axes>"
      ]
     },
     "metadata": {},
     "output_type": "display_data"
    },
    {
     "ename": "",
     "evalue": "",
     "output_type": "error",
     "traceback": [
      "\u001b[1;31mThe Kernel crashed while executing code in the current cell or a previous cell. \n",
      "\u001b[1;31mPlease review the code in the cell(s) to identify a possible cause of the failure. \n",
      "\u001b[1;31mClick <a href='https://aka.ms/vscodeJupyterKernelCrash'>here</a> for more info. \n",
      "\u001b[1;31mView Jupyter <a href='command:jupyter.viewOutput'>log</a> for further details."
     ]
    }
   ],
   "source": [
    "px_num = (5, 5)\n",
    "px_size = (50, 50)\n",
    "px_pitch = (60, 60)\n",
    "row_offset = 0\n",
    "px_scale = 1\n",
    "sub_px_pad = (0, 0)\n",
    "# sub_px_size = (20, 20)\n",
    "sub_px_size = (20, 20)\n",
    "sub_px_pitch = (30, 30)\n",
    "sub_px_order_str = 'RG|BW'\n",
    "sub_px_order = ['RG|BW']\n",
    "\n",
    "canvas_im, output_msg = gen_array(px_scale, px_num, px_pitch, px_size, row_offset, sub_px_size, sub_px_pitch, sub_px_pad, sub_px_order)\n",
    "\n",
    "\n",
    "canvas_im = cv2.cvtColor(canvas_im, cv2.COLOR_BGR2RGB)\n",
    "plt.imshow(canvas_im)"
   ]
  },
  {
   "cell_type": "code",
   "execution_count": null,
   "metadata": {},
   "outputs": [],
   "source": []
  },
  {
   "cell_type": "code",
   "execution_count": 67,
   "metadata": {},
   "outputs": [
    {
     "data": {
      "text/plain": [
       "<matplotlib.image.AxesImage at 0x224b0f15c70>"
      ]
     },
     "execution_count": 67,
     "metadata": {},
     "output_type": "execute_result"
    },
    {
     "data": {
      "image/png": "[encoded data removed]",
      "text/plain": [
       "<Figure size 640x480 with 1 Axes>"
      ]
     },
     "metadata": {},
     "output_type": "display_data"
    }
   ],
   "source": [
    "canvas = np.zeros([300, 300, 3], dtype='uint8')\n",
    "\n",
    "px_pos = (100, 100)\n",
    "px_scale = 1\n",
    "sub_px_pad = (0, 0)\n",
    "# sub_px_size = (20, 20)\n",
    "sub_px_size = (20, 20)\n",
    "sub_px_pitch = (30, 30)\n",
    "sub_px_order_str = ('RG|BW')\n",
    "\n",
    "canvas_im = gen_pixel(canvas, px_pos, sub_px_pad, sub_px_size, sub_px_pitch, sub_px_order_str)\n",
    "# cv2.rectangle(canvas_im, px_pos, (), (255, 255, 0), 1)\n",
    "canvas_im = cv2.cvtColor(canvas_im, cv2.COLOR_BGR2RGB)\n",
    "plt.imshow(canvas_im)"
   ]
  },
  {
   "cell_type": "code",
   "execution_count": 25,
   "metadata": {},
   "outputs": [
    {
     "name": "stdout",
     "output_type": "stream",
     "text": [
      "float64\n"
     ]
    }
   ],
   "source": [
    "print(canvas_im.dtype)"
   ]
  },
  {
   "cell_type": "code",
   "execution_count": 7,
   "metadata": {},
   "outputs": [
    {
     "name": "stdout",
     "output_type": "stream",
     "text": [
      "Array Size: 100.0 x 100.0\n",
      "Array Dimension: 5 x 5\n",
      "Pixel Pitch: 60.0 x 60.0\n",
      "\n"
     ]
    }
   ],
   "source": [
    "import textwrap\n",
    "array_size = np.array([100, 100])\n",
    "px_scale = 1\n",
    "px_num = (5, 5)\n",
    "px_size = (50, 50)\n",
    "px_pitch = (60, 60)\n",
    "output_msg = f'''Array Size: {(array_size / px_scale)[0]} x {(array_size / px_scale)[1]}\n",
    "Array Dimension: {px_num[0]} x {px_num[1]}\n",
    "Pixel Pitch: {px_pitch[0] / px_scale} x {px_pitch[1] / px_scale}\n",
    "'''\n",
    "output_msg = textwrap.dedent(output_msg)\n",
    "\n",
    "print(output_msg)\n"
   ]
  },
  {
   "cell_type": "code",
   "execution_count": 9,
   "metadata": {},
   "outputs": [
    {
     "name": "stdout",
     "output_type": "stream",
     "text": [
      "[1. 1.] [1 1]\n"
     ]
    }
   ],
   "source": [
    "a = np.array([1.0, 1.0])\n",
    "b = a.astype('uint8')\n",
    "print(a, b)"
   ]
  },
  {
   "cell_type": "code",
   "execution_count": 11,
   "metadata": {},
   "outputs": [
    {
     "name": "stdout",
     "output_type": "stream",
     "text": [
      "R.txt\n",
      "G.txt\n",
      "B.txt\n"
     ]
    }
   ],
   "source": [
    "for i, c in enumerate(['R', 'G', 'B']):\n",
    "    output_fn = f'{c}.txt'\n",
    "    print(output_fn)"
   ]
  },
  {
   "cell_type": "code",
   "execution_count": 12,
   "metadata": {},
   "outputs": [],
   "source": [
    "array_im_preview = np.load('.\\\\array_im_preview.npy')\n",
    "array_im = np.load('.\\\\array_im.npy')"
   ]
  },
  {
   "cell_type": "code",
   "execution_count": 14,
   "metadata": {},
   "outputs": [
    {
     "data": {
      "text/plain": [
       "<matplotlib.image.AxesImage at 0x1db74a51880>"
      ]
     },
     "execution_count": 14,
     "metadata": {},
     "output_type": "execute_result"
    },
    {
     "data": {
      "image/png": "[encoded data removed]",
      "text/plain": [
       "<Figure size 640x480 with 1 Axes>"
      ]
     },
     "metadata": {},
     "output_type": "display_data"
    }
   ],
   "source": [
    "plt.imshow(array_im_preview)\n"
   ]
  },
  {
   "cell_type": "code",
   "execution_count": 25,
   "metadata": {},
   "outputs": [
    {
     "data": {
      "text/plain": [
       "<matplotlib.image.AxesImage at 0x1db7aed19a0>"
      ]
     },
     "execution_count": 25,
     "metadata": {},
     "output_type": "execute_result"
    },
    {
     "data": {
      "image/png": "[encoded data removed]",
      "text/plain": [
       "<Figure size 640x480 with 3 Axes>"
      ]
     },
     "metadata": {},
     "output_type": "display_data"
    }
   ],
   "source": [
    "main_array = array_im_preview\n",
    "array_im_r = np.zeros_like(main_array)\n",
    "array_im_g = np.zeros_like(main_array)\n",
    "array_im_b = np.zeros_like(main_array)\n",
    "array_im_r[:, :, 0] = main_array[:, :, 0]\n",
    "array_im_g[:, :, 1] = main_array[:, :, 1]\n",
    "array_im_b[:, :, 2] = main_array[:, :, 2]\n",
    "fig, ax = plt.subplots(1, 3)\n",
    "ax[0].imshow(array_im_r) \n",
    "ax[1].imshow(array_im_g) \n",
    "ax[2].imshow(array_im_b) \n",
    "# plt.imshow(array_im_r)\n",
    "# plt.imshow(array_im_g)\n",
    "# plt.imshow(array_im_b)"
   ]
  },
  {
   "cell_type": "code",
   "execution_count": null,
   "metadata": {},
   "outputs": [],
   "source": []
  }
 ],
 "metadata": {
  "kernelspec": {
   "display_name": "Python 3",
   "language": "python",
   "name": "python3"
  },
  "language_info": {
   "codemirror_mode": {
    "name": "ipython",
    "version": 3
   },
   "file_extension": ".py",
   "mimetype": "text/x-python",
   "name": "python",
   "nbconvert_exporter": "python",
   "pygments_lexer": "ipython3",
   "version": "3.9.2"
  }
 },
 "nbformat": 4,
 "nbformat_minor": 2
}
